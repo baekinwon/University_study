{
 "cells": [
  {
   "cell_type": "code",
   "execution_count": 15,
   "id": "8e540b8a",
   "metadata": {},
   "outputs": [],
   "source": [
    "import numpy as np\n",
    "import matplotlib.pyplot as plt"
   ]
  },
  {
   "cell_type": "markdown",
   "id": "91bf5c66",
   "metadata": {},
   "source": [
    "# ▶ MLP structure\n",
    "- input layer node: 2개\n",
    "- 1st hidden layer node: 5개\n",
    "- 2nd hidden layer node: 3개\n",
    "- output layer node: 2개\n",
    "- activation function: sigmoid"
   ]
  },
  {
   "cell_type": "markdown",
   "id": "24e75dcd",
   "metadata": {},
   "source": [
    "# 1. 함수 정의"
   ]
  },
  {
   "cell_type": "code",
   "execution_count": 16,
   "id": "dd103293",
   "metadata": {},
   "outputs": [],
   "source": [
    "def sigmoid(a):\n",
    "    return 1 / (1 + np.exp(-a))"
   ]
  },
  {
   "cell_type": "code",
   "execution_count": 17,
   "id": "1f8b03b6",
   "metadata": {},
   "outputs": [],
   "source": [
    "def d_sigmoid(a):\n",
    "    return sigmoid(a) * (1 - sigmoid(a))"
   ]
  },
  {
   "cell_type": "code",
   "execution_count": 18,
   "id": "f21b6366",
   "metadata": {},
   "outputs": [],
   "source": [
    "def mse(y,t):\n",
    "    return 0.5 * np.mean((y-t)**2)"
   ]
  },
  {
   "cell_type": "markdown",
   "id": "90ab20b7",
   "metadata": {},
   "source": [
    "# 2. X와 t"
   ]
  },
  {
   "cell_type": "code",
   "execution_count": 19,
   "id": "7c584e70",
   "metadata": {},
   "outputs": [
    {
     "name": "stdout",
     "output_type": "stream",
     "text": [
      "(6, 2) (6, 2)\n"
     ]
    }
   ],
   "source": [
    "X = np.array([[0,1],\n",
    "              [1,0],\n",
    "              [1,1],\n",
    "              [-1,0],\n",
    "              [0,-1],\n",
    "              [-1,-1]])\n",
    "\n",
    "t = np.array([[1,0],\n",
    "              [1,0],\n",
    "              [0,1],\n",
    "              [0,1],\n",
    "              [1,0],\n",
    "              [0,1]])\n",
    "print(X.shape, t.shape)"
   ]
  },
  {
   "cell_type": "code",
   "execution_count": 20,
   "id": "4fb59fbf",
   "metadata": {},
   "outputs": [],
   "source": [
    "# sample의 수\n",
    "num_data = X.shape[0]\n",
    "# num_data = t.shape[0]\n",
    "\n",
    "# input layer node의 수 (특징의 수)\n",
    "input_node = X.shape[1]\n",
    "\n",
    "# 1st hidden layer node의 수\n",
    "hid_node1 = 5\n",
    "\n",
    "# 2nd hidden layer node의 수\n",
    "hid_node2 = 3\n",
    "\n",
    "# output layer node의 수 (class의 수)\n",
    "output_node = t.shape[1]"
   ]
  },
  {
   "cell_type": "markdown",
   "id": "3131f76b",
   "metadata": {},
   "source": [
    "# 3. W와 b의 초기값"
   ]
  },
  {
   "cell_type": "code",
   "execution_count": 21,
   "id": "c2560ad9",
   "metadata": {},
   "outputs": [],
   "source": [
    "# output layer → 2nd hidden layer\n",
    "W3 = np.random.randn(output_node,hid_node2)\n",
    "b3 = np.random.randn(output_node)\n",
    "\n",
    "# 2nd hidden layer → 1st hidden layer\n",
    "W2 = np.random.randn(hid_node2,hid_node1)\n",
    "b2 = np.random.randn(hid_node2)\n",
    "\n",
    "# 1st hidden layer → input layer\n",
    "W1 = np.random.randn(hid_node1,input_node)\n",
    "b1 = np.random.randn(hid_node1)"
   ]
  },
  {
   "cell_type": "markdown",
   "id": "50090a0d",
   "metadata": {},
   "source": [
    "## ※ shape 확인"
   ]
  },
  {
   "cell_type": "code",
   "execution_count": 22,
   "id": "24cceb4d",
   "metadata": {},
   "outputs": [
    {
     "name": "stdout",
     "output_type": "stream",
     "text": [
      "(6, 2)\n",
      "(2, 3)\n",
      "(2,)\n",
      "(3, 5)\n",
      "(3,)\n",
      "(5, 2)\n",
      "(5,)\n",
      "(6, 2)\n"
     ]
    }
   ],
   "source": [
    "print(t.shape)\n",
    "print(W3.shape)\n",
    "print(b3.shape)\n",
    "print(W2.shape)\n",
    "print(b2.shape)\n",
    "print(W1.shape)\n",
    "print(b1.shape)\n",
    "print(X.shape)"
   ]
  },
  {
   "cell_type": "markdown",
   "id": "8a4523a2",
   "metadata": {},
   "source": [
    "# 4. predict"
   ]
  },
  {
   "cell_type": "code",
   "execution_count": 23,
   "id": "814d262e",
   "metadata": {},
   "outputs": [],
   "source": [
    "def predict(x_in,w1,b1,w2,b2,w3,b3):\n",
    "    a1 = x_in.dot(w1.T) + b1\n",
    "    z1 = sigmoid(a1)    \n",
    "    a2 = z1.dot(w2.T) + b2\n",
    "    z2 = sigmoid(a2)\n",
    "    a3 = z2.dot(w3.T) + b3\n",
    "    y = sigmoid(a3)\n",
    "    return a1,z1,a2,z2,a3,y"
   ]
  },
  {
   "cell_type": "markdown",
   "id": "b8f2904c",
   "metadata": {},
   "source": [
    "# 5. Backpropagation"
   ]
  },
  {
   "cell_type": "code",
   "execution_count": 24,
   "id": "ec735893",
   "metadata": {},
   "outputs": [],
   "source": [
    "learning_rate = 0.1\n",
    "iter = 50000\n",
    "cost = np.zeros((iter))"
   ]
  },
  {
   "cell_type": "code",
   "execution_count": 25,
   "id": "b99a2c3a",
   "metadata": {},
   "outputs": [],
   "source": [
    "for i in range(iter):\n",
    "    a1,z1,a2,z2,a3,y = predict(X,W1,b1,W2,b2,W3,b3)\n",
    "    cost[i] = mse(y,t)\n",
    "    \n",
    "    del_out = (y-t) * d_sigmoid(a3) \n",
    "    del_hid2 = del_out.dot(W3) * d_sigmoid(a2)\n",
    "    del_hid1 = del_hid2.dot(W2) * d_sigmoid(a1)\n",
    "        \n",
    "    W3 = W3 - learning_rate * del_out.T.dot(z2) / num_data\n",
    "    b3 = b3 - learning_rate * np.sum(del_out,axis=0) / num_data\n",
    "    \n",
    "    W2 = W2 - learning_rate * del_hid2.T.dot(z1) / num_data\n",
    "    b2 = b2 - learning_rate * np.sum(del_hid2,axis=0) / num_data\n",
    "\n",
    "    W1 = W1 - learning_rate * del_hid1.T.dot(X) / num_data\n",
    "    b1 = b1 - learning_rate * np.sum(del_hid1,axis=0) / num_data"
   ]
  },
  {
   "cell_type": "markdown",
   "id": "74efec8b",
   "metadata": {},
   "source": [
    "# 6. predict (W와 b update 종료 후)"
   ]
  },
  {
   "cell_type": "code",
   "execution_count": 26,
   "id": "3a682c9c",
   "metadata": {},
   "outputs": [
    {
     "data": {
      "text/plain": [
       "array([[0, 0],\n",
       "       [0, 0],\n",
       "       [1, 1],\n",
       "       [1, 1],\n",
       "       [0, 0],\n",
       "       [1, 1]], dtype=int64)"
      ]
     },
     "execution_count": 26,
     "metadata": {},
     "output_type": "execute_result"
    }
   ],
   "source": [
    "pred = y.argmax(axis=1).reshape(-1,1)\n",
    "target = t.argmax(axis=1).reshape(-1,1)\n",
    "np.concatenate((pred,target),axis=1)"
   ]
  },
  {
   "cell_type": "code",
   "execution_count": 27,
   "id": "abf9330b",
   "metadata": {},
   "outputs": [],
   "source": [
    "a1,z1,a2,z2,a3,y = predict(X,W1,b1,W2,b2,W3,b3)"
   ]
  },
  {
   "cell_type": "code",
   "execution_count": 28,
   "id": "1b6bfd26",
   "metadata": {},
   "outputs": [
    {
     "data": {
      "text/plain": [
       "[<matplotlib.lines.Line2D at 0x1ed28d11310>]"
      ]
     },
     "execution_count": 28,
     "metadata": {},
     "output_type": "execute_result"
    },
    {
     "data": {
      "image/png": "[encoded data removed]",
      "text/plain": [
       "<Figure size 640x480 with 1 Axes>"
      ]
     },
     "metadata": {},
     "output_type": "display_data"
    }
   ],
   "source": [
    "plt.plot(cost[2:])"
   ]
  },
  {
   "cell_type": "code",
   "execution_count": 29,
   "id": "4e0a6da6",
   "metadata": {},
   "outputs": [
    {
     "data": {
      "text/plain": [
       "array([[0.97421928, 0.026861  ],\n",
       "       [0.98328056, 0.01574017],\n",
       "       [0.02720806, 0.97232803],\n",
       "       [0.01374366, 0.98649127],\n",
       "       [0.98992064, 0.00974244],\n",
       "       [0.01075396, 0.98928964]])"
      ]
     },
     "execution_count": 29,
     "metadata": {},
     "output_type": "execute_result"
    }
   ],
   "source": [
    "y"
   ]
  },
  {
   "cell_type": "code",
   "execution_count": null,
   "id": "5eafce41",
   "metadata": {},
   "outputs": [],
   "source": []
  }
 ],
 "metadata": {
  "kernelspec": {
   "display_name": "Python 3 (ipykernel)",
   "language": "python",
   "name": "python3"
  },
  "language_info": {
   "codemirror_mode": {
    "name": "ipython",
    "version": 3
   },
   "file_extension": ".py",
   "mimetype": "text/x-python",
   "name": "python",
   "nbconvert_exporter": "python",
   "pygments_lexer": "ipython3",
   "version": "3.9.13"
  }
 },
 "nbformat": 4,
 "nbformat_minor": 5
}
