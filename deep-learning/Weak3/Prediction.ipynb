{
 "cells": [
  {
   "cell_type": "code",
   "execution_count": 1,
   "id": "3674c650",
   "metadata": {},
   "outputs": [],
   "source": [
    "import numpy as np"
   ]
  },
  {
   "cell_type": "code",
   "execution_count": 2,
   "id": "bd743dc9",
   "metadata": {},
   "outputs": [],
   "source": [
    "# MLP model\n",
    "# input layer node: 2개\n",
    "# hidden layer node: 4개\n",
    "# output layer node: 3개"
   ]
  },
  {
   "cell_type": "code",
   "execution_count": 3,
   "id": "5238719d",
   "metadata": {},
   "outputs": [],
   "source": [
    "# input X 및 w(가중치), b(편향)\n",
    "# sample의 수와 관계없이 실행\n",
    "# x는 반드시 2D array여야 하며,x.shape[1]은 2여야 함"
   ]
  },
  {
   "cell_type": "code",
   "execution_count": 8,
   "id": "3baa3a99",
   "metadata": {},
   "outputs": [],
   "source": [
    "# X가 5개의 sample일 경우 x.shape = (5,2)\n",
    "x = np.array([[0,1],\n",
    "    [1,1],\n",
    "    [-1,0],\n",
    "    [2,-1],\n",
    "    [-1,1]])\n",
    "\n",
    "#-------------input layer -> hidden layer-----------------\n",
    "\n",
    "# W1.shape = (2,4) (input layer(출발), 첫번째 hidden layer node(도착))\n",
    "w1 = np.array([[0.5,0.2,-0.3,0.1],\n",
    "     [-0.2,0.7,-0.4,0.8]])\n",
    "\n",
    "# b1.shape(4,) (hidden layer node(도착))\n",
    "b1 = np.array([0.3,-0.1,0.5,-0.4])\n",
    "\n",
    "#-------------hidden layer -> output layer----------------\n",
    "    \n",
    "# w2.shape(4,3) (hidden layer node(출발), output layer node(도착))\n",
    "w2 = np.array([[0.2,0.7,-0.3],\n",
    "              [0.8,-0.5,-0.1],\n",
    "              [0.1,0.5,0.3],\n",
    "              [-0.6,0.4,0.7],])\n",
    "\n",
    "# b2.shape(3,) (output layer node(도착))\n",
    "b2 = np.array([-0.5,0.9,-0.2])"
   ]
  },
  {
   "cell_type": "code",
   "execution_count": 14,
   "id": "7d455a0b",
   "metadata": {},
   "outputs": [],
   "source": [
    "# activation function (sigmoid)"
   ]
  },
  {
   "cell_type": "code",
   "execution_count": 22,
   "id": "1299e42f",
   "metadata": {},
   "outputs": [],
   "source": [
    "def sigmoid(a):\n",
    "    return 1/(1+np.exp(-a))\n",
    "# 입력 a와 동일한 shape의 ndarray를 반환함\n",
    "# 위 식이 입력 a의 각 원소에 적용됨"
   ]
  },
  {
   "cell_type": "code",
   "execution_count": 23,
   "id": "041b362d",
   "metadata": {},
   "outputs": [
    {
     "data": {
      "text/plain": [
       "array([[0.5       , 0.73105858],\n",
       "       [0.73105858, 0.73105858],\n",
       "       [0.26894142, 0.5       ],\n",
       "       [0.88079708, 0.26894142],\n",
       "       [0.26894142, 0.73105858]])"
      ]
     },
     "execution_count": 23,
     "metadata": {},
     "output_type": "execute_result"
    }
   ],
   "source": [
    "sigmoid(x)"
   ]
  },
  {
   "cell_type": "code",
   "execution_count": 26,
   "id": "57a3167b",
   "metadata": {},
   "outputs": [
    {
     "name": "stdout",
     "output_type": "stream",
     "text": [
      "(5, 2) (2, 4)\n",
      "(5, 4)\n"
     ]
    }
   ],
   "source": [
    "# input layer -> hidden layer(a1, z1)\n",
    "# a1과 z1의 shape = (5,4) (sample의 수, hidden layer node의 수)\n",
    "# x.dot(w1): x.shape[1]과 w1.shape[0]은 반드시 동일해야 함\n",
    "print(x.shape, w1.shape)\n",
    "a1 = x.dot(w1) + b1\n",
    "print(a1.shape)\n",
    "# a1의 각 행은 x의 각 행에 대한 hidden layer node에 대응되는 값\n",
    "# 그러므로, x의 행과 a1의 행은 동일해야 함"
   ]
  },
  {
   "cell_type": "code",
   "execution_count": 27,
   "id": "5e532fe0",
   "metadata": {},
   "outputs": [
    {
     "name": "stdout",
     "output_type": "stream",
     "text": [
      "(5, 4)\n"
     ]
    }
   ],
   "source": [
    "# z1은 a1이 activation function(sigmoid)를 통과한 결과\n",
    "z1 = sigmoid(a1)\n",
    "# z1은 a1과 동일한 shape\n",
    "print(z1.shape)"
   ]
  },
  {
   "cell_type": "code",
   "execution_count": 29,
   "id": "64e51cf4",
   "metadata": {},
   "outputs": [
    {
     "name": "stdout",
     "output_type": "stream",
     "text": [
      "(5, 3)\n"
     ]
    }
   ],
   "source": [
    "# hidden layer -> output layer\n",
    "# 입력 z1\n",
    "# z1.shape = (5,4) (sample의 수, hidden layer node의 수)\n",
    "# w2.shape = (4,3) (hidden layer node 수, output layer node의 수)\n",
    "# b2.shape = (3,) (output layer node의 수)\n",
    "a2 = z1.dot(w2)+b2\n",
    "# a2의 각 행은 입력값 z1의 각 행에 대한 output layer node에 대응되는 값 \n",
    "print(a2.shape)"
   ]
  },
  {
   "cell_type": "code",
   "execution_count": 32,
   "id": "52597e22",
   "metadata": {},
   "outputs": [
    {
     "name": "stdout",
     "output_type": "stream",
     "text": [
      "(5, 3)\n",
      "[[0.45383342 0.809478   0.53855226]\n",
      " [0.46322947 0.81472945 0.52699298]\n",
      " [0.44348065 0.81732691 0.52339921]\n",
      " [0.47019641 0.84110111 0.46883749]\n",
      " [0.44384191 0.80387564 0.55019376]]\n"
     ]
    }
   ],
   "source": [
    "y = sigmoid(a2)\n",
    "print(y.shape)\n",
    "# y의 각 행은 입력 X의 각 행에 대한 output layer node의 최종 값\n",
    "# 그러므로, y.shape = (sample의 수, output layer node의 수)\n",
    "print(y)\n",
    "# y는 a2에 대한 sigmoid 값이므로 0~1 사이의 값을 가짐\n",
    "# -> 가장 큰 값을 갖는 node에 해당하는 class로 판단"
   ]
  },
  {
   "cell_type": "markdown",
   "id": "336c1314",
   "metadata": {},
   "source": [
    "# Softmax"
   ]
  },
  {
   "cell_type": "code",
   "execution_count": 43,
   "id": "279277c0",
   "metadata": {},
   "outputs": [],
   "source": [
    "def softmax(a):\n",
    "    return np.exp(a) / np.exp(a).sum(axis=1).reshape(-1,1)"
   ]
  },
  {
   "cell_type": "code",
   "execution_count": 45,
   "id": "f8ebebac",
   "metadata": {},
   "outputs": [
    {
     "name": "stdout",
     "output_type": "stream",
     "text": [
      "(5, 3)\n",
      "[[0.13301959 0.68014915 0.18683127]\n",
      " [0.13537919 0.68984486 0.17477594]\n",
      " [0.12511239 0.70246896 0.17241865]\n",
      " [0.12564541 0.74939284 0.12496175]\n",
      " [0.13039956 0.66973566 0.19986478]]\n"
     ]
    },
    {
     "data": {
      "text/plain": [
       "array([1, 1, 1, 1, 1], dtype=int64)"
      ]
     },
     "execution_count": 45,
     "metadata": {},
     "output_type": "execute_result"
    }
   ],
   "source": [
    "a2 = z1.dot(w2)+b2\n",
    "y = softmax(a2)\n",
    "print(y.shape)\n",
    "print(y)\n",
    "# 최종 class index 반환\n",
    "# np.argmax(ndarray)는 최대값을 갖는 index를 반환\n",
    "# 각 행의 최대값 index를 추출하기 위해 axis=1 지정\n",
    "np.argmax(y,axis=1)"
   ]
  },
  {
   "cell_type": "code",
   "execution_count": null,
   "id": "ba601391",
   "metadata": {},
   "outputs": [],
   "source": []
  }
 ],
 "metadata": {
  "kernelspec": {
   "display_name": "Python 3 (ipykernel)",
   "language": "python",
   "name": "python3"
  },
  "language_info": {
   "codemirror_mode": {
    "name": "ipython",
    "version": 3
   },
   "file_extension": ".py",
   "mimetype": "text/x-python",
   "name": "python",
   "nbconvert_exporter": "python",
   "pygments_lexer": "ipython3",
   "version": "3.9.13"
  }
 },
 "nbformat": 4,
 "nbformat_minor": 5
}
