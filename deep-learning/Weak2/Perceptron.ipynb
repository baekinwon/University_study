{
 "cells": [
  {
   "cell_type": "code",
   "execution_count": 68,
   "id": "8bcc46d2",
   "metadata": {},
   "outputs": [],
   "source": [
    "import numpy as np"
   ]
  },
  {
   "cell_type": "code",
   "execution_count": 69,
   "id": "cc73167c",
   "metadata": {},
   "outputs": [
    {
     "name": "stdout",
     "output_type": "stream",
     "text": [
      "(4, 2)\n"
     ]
    }
   ],
   "source": [
    "# 입력\n",
    "x = np.array([[0,0],[0,1],[1,0],[1,1]])\n",
    "print(x.shape)\n",
    "# (4,2): feature(특징)이 2개인 4개의 sample"
   ]
  },
  {
   "cell_type": "code",
   "execution_count": 70,
   "id": "67d85370",
   "metadata": {},
   "outputs": [],
   "source": [
    "# perceptron 정의\n",
    "\n",
    "def perceptron(x,w,b):\n",
    "    # 입력 x,w는 ndarray\n",
    "    # w1x1+w2x2는 w 벡터와 x벡터의 내적\n",
    "    y = x.dot(w)+b > 0\n",
    "    return y.astype('int')\n",
    "    # 반환하는 값이 bool type이므로 astype()로 타입 변경"
   ]
  },
  {
   "cell_type": "code",
   "execution_count": 71,
   "id": "c290a45b",
   "metadata": {},
   "outputs": [
    {
     "data": {
      "text/plain": [
       "array([1, 1, 1, 1])"
      ]
     },
     "execution_count": 71,
     "metadata": {},
     "output_type": "execute_result"
    }
   ],
   "source": [
    "w = np.array([3,2])\n",
    "perceptron(x,w,3)"
   ]
  },
  {
   "cell_type": "code",
   "execution_count": 72,
   "id": "552f5e8d",
   "metadata": {},
   "outputs": [],
   "source": [
    "# AND\n",
    "def AND(x_and):\n",
    "    w_and = np.array([3,4])\n",
    "    b_and = -5\n",
    "    return perceptron(x_and,w_and,b_and)"
   ]
  },
  {
   "cell_type": "code",
   "execution_count": 73,
   "id": "0dd8871a",
   "metadata": {},
   "outputs": [],
   "source": [
    "# NAND\n",
    "def NAND(x_nand):\n",
    "    w_nand = np.array([-3,-4])\n",
    "    b_nand = 5\n",
    "    return perceptron(x_nand,w_nand,b_nand)"
   ]
  },
  {
   "cell_type": "code",
   "execution_count": 74,
   "id": "2008fd94",
   "metadata": {},
   "outputs": [],
   "source": [
    "# OR\n",
    "def OR(x_or):\n",
    "    w_or = np.array([0.5,0.5])\n",
    "    b_or = -0.3\n",
    "    return perceptron(x_or,w_or,b_or)"
   ]
  },
  {
   "cell_type": "code",
   "execution_count": 75,
   "id": "28664803",
   "metadata": {},
   "outputs": [
    {
     "data": {
      "text/plain": [
       "array([0, 0, 0, 1])"
      ]
     },
     "execution_count": 75,
     "metadata": {},
     "output_type": "execute_result"
    }
   ],
   "source": [
    "AND(x)"
   ]
  },
  {
   "cell_type": "code",
   "execution_count": 76,
   "id": "e2ddd1ad",
   "metadata": {},
   "outputs": [
    {
     "data": {
      "text/plain": [
       "array([1, 1, 1, 0])"
      ]
     },
     "execution_count": 76,
     "metadata": {},
     "output_type": "execute_result"
    }
   ],
   "source": [
    "NAND(x)"
   ]
  },
  {
   "cell_type": "code",
   "execution_count": 77,
   "id": "76e05441",
   "metadata": {},
   "outputs": [
    {
     "data": {
      "text/plain": [
       "array([0, 1, 1, 1])"
      ]
     },
     "execution_count": 77,
     "metadata": {},
     "output_type": "execute_result"
    }
   ],
   "source": [
    "OR(x)"
   ]
  },
  {
   "cell_type": "code",
   "execution_count": 78,
   "id": "5c8eedbe",
   "metadata": {},
   "outputs": [
    {
     "data": {
      "text/plain": [
       "array([[1, 0],\n",
       "       [1, 1],\n",
       "       [1, 1],\n",
       "       [0, 1]])"
      ]
     },
     "execution_count": 78,
     "metadata": {},
     "output_type": "execute_result"
    }
   ],
   "source": [
    "s1 = NAND(x).reshape(-1,1)\n",
    "s2 = OR(x).reshape(-1,1)\n",
    "# NAND와 OR의 결과는 1D\n",
    "# 때문에 reshape로 2D array로 바꿔줌\n",
    "# 다음 열을 결합함\n",
    "np.concatenate((s1,s2),axis=1)"
   ]
  },
  {
   "cell_type": "code",
   "execution_count": 79,
   "id": "411d2272",
   "metadata": {},
   "outputs": [],
   "source": [
    "# XOR (multi-layer perceptron)\n",
    "def XOR(x_xor):\n",
    "    s1 = NAND(x_xor).reshape(-1,1) # 입력 값이 2차원이어야 함\n",
    "    s2 = OR(x_xor).reshape(-1,1)\n",
    "    y = AND(np.concatenate((s1,s2),axis=1)) # s1과 s2를 열을 기준으로 합침\n",
    "    return y"
   ]
  },
  {
   "cell_type": "code",
   "execution_count": 80,
   "id": "4dcaea54",
   "metadata": {},
   "outputs": [
    {
     "data": {
      "text/plain": [
       "array([0, 1, 1, 0])"
      ]
     },
     "execution_count": 80,
     "metadata": {},
     "output_type": "execute_result"
    }
   ],
   "source": [
    "XOR(x)"
   ]
  },
  {
   "cell_type": "code",
   "execution_count": null,
   "id": "e3593458",
   "metadata": {},
   "outputs": [],
   "source": []
  }
 ],
 "metadata": {
  "kernelspec": {
   "display_name": "Python 3 (ipykernel)",
   "language": "python",
   "name": "python3"
  },
  "language_info": {
   "codemirror_mode": {
    "name": "ipython",
    "version": 3
   },
   "file_extension": ".py",
   "mimetype": "text/x-python",
   "name": "python",
   "nbconvert_exporter": "python",
   "pygments_lexer": "ipython3",
   "version": "3.9.13"
  }
 },
 "nbformat": 4,
 "nbformat_minor": 5
}
