{
 "cells": [
  {
   "cell_type": "code",
   "execution_count": 2,
   "id": "ec2fcd40",
   "metadata": {},
   "outputs": [],
   "source": [
    "import pandas as pd\n",
    "import numpy as np"
   ]
  },
  {
   "cell_type": "code",
   "execution_count": 3,
   "id": "ca7410f7",
   "metadata": {},
   "outputs": [
    {
     "name": "stdout",
     "output_type": "stream",
     "text": [
      "<class 'numpy.ndarray'>\n"
     ]
    },
    {
     "data": {
      "text/plain": [
       "array([['James', 'France', 44.0, 72000.0, 'No'],\n",
       "       ['Tim', 'Spain', 27.0, 48000.0, 'Yes'],\n",
       "       ['Sarah', 'Germany', 30.0, 54000.0, 'No'],\n",
       "       ['Robert', 'Spain', 38.0, 61000.0, 'No'],\n",
       "       ['Emma', 'Germany', 40.0, nan, 'Yes'],\n",
       "       ['Jennifer', 'France', 35.0, 58000.0, 'Yes'],\n",
       "       ['Linda', 'Spain', nan, 52000.0, 'No'],\n",
       "       ['Thomas', 'France', 48.0, 79000.0, 'Yes'],\n",
       "       ['Ben', 'Germany', 50.0, 83000.0, 'No'],\n",
       "       ['Scarlett', 'France', 37.0, 67000.0, 'Yes']], dtype=object)"
      ]
     },
     "execution_count": 3,
     "metadata": {},
     "output_type": "execute_result"
    }
   ],
   "source": [
    "dataset = pd.read_csv('C:\\data\\sample.csv').values\n",
    "print(type(dataset))\n",
    "dataset"
   ]
  },
  {
   "cell_type": "code",
   "execution_count": 4,
   "id": "fda5eaf7",
   "metadata": {},
   "outputs": [
    {
     "name": "stdout",
     "output_type": "stream",
     "text": [
      "[['France' 44.0 72000.0]\n",
      " ['Spain' 27.0 48000.0]\n",
      " ['Germany' 30.0 54000.0]\n",
      " ['Spain' 38.0 61000.0]\n",
      " ['Germany' 40.0 nan]\n",
      " ['France' 35.0 58000.0]\n",
      " ['Spain' nan 52000.0]\n",
      " ['France' 48.0 79000.0]\n",
      " ['Germany' 50.0 83000.0]\n",
      " ['France' 37.0 67000.0]]\n",
      "['No' 'Yes' 'No' 'No' 'Yes' 'Yes' 'No' 'Yes' 'No' 'Yes']\n"
     ]
    }
   ],
   "source": [
    "# x는 전체 행, 국적(1),나이(2),연봉(3)\n",
    "x = dataset[:,1:-1]\n",
    "print(x)\n",
    "\n",
    "# y = 전체 행, 마지막 열\n",
    "y = dataset[:,-1]\n",
    "print(y)"
   ]
  },
  {
   "cell_type": "code",
   "execution_count": 5,
   "id": "14745115",
   "metadata": {},
   "outputs": [
    {
     "name": "stdout",
     "output_type": "stream",
     "text": [
      "(10, 3)\n",
      "(10,)\n"
     ]
    }
   ],
   "source": [
    "print(x.shape)\n",
    "print(y.shape)"
   ]
  },
  {
   "cell_type": "code",
   "execution_count": 6,
   "id": "4d5a131e",
   "metadata": {},
   "outputs": [
    {
     "data": {
      "text/plain": [
       "array([0, 2, 1, 2, 1, 0, 2, 0, 1, 0])"
      ]
     },
     "execution_count": 6,
     "metadata": {},
     "output_type": "execute_result"
    }
   ],
   "source": [
    "from sklearn.preprocessing import LabelEncoder\n",
    "# 문자를 0부터 n까지의 정수로 변환\n",
    "le = LabelEncoder()\n",
    "# X의 첫번째열에 LabelEncoder 적용\n",
    "le.fit(x[:,0])\n",
    "# fit은 실제 변형되지 않고, 정보 수집 및 변환 전략 수립\n",
    "# 어떻게 변형할지 정보 수집\n",
    "x_c = le.transform(x[:,0])\n",
    "# tranform은 fit에서 결정된 정보 기반으로 실제 변환 수행 후 결과 반환\n",
    "# 데이터 스케일링\n",
    "x_c"
   ]
  },
  {
   "cell_type": "code",
   "execution_count": 7,
   "id": "01200ed1",
   "metadata": {
    "scrolled": true
   },
   "outputs": [
    {
     "data": {
      "text/plain": [
       "array([[0, 44.0, 72000.0],\n",
       "       [2, 27.0, 48000.0],\n",
       "       [1, 30.0, 54000.0],\n",
       "       [2, 38.0, 61000.0],\n",
       "       [1, 40.0, nan],\n",
       "       [0, 35.0, 58000.0],\n",
       "       [2, nan, 52000.0],\n",
       "       [0, 48.0, 79000.0],\n",
       "       [1, 50.0, 83000.0],\n",
       "       [0, 37.0, 67000.0]], dtype=object)"
      ]
     },
     "execution_count": 7,
     "metadata": {},
     "output_type": "execute_result"
    }
   ],
   "source": [
    "x_tmp = np.delete(x,0,axis=1)\n",
    "x_new = np.concatenate((x_c.reshape(-1,1),x_tmp),axis=1)\n",
    "x_new"
   ]
  },
  {
   "cell_type": "code",
   "execution_count": 16,
   "id": "f9e18887",
   "metadata": {},
   "outputs": [
    {
     "data": {
      "text/plain": [
       "array([[0., 0., 0., 0., 0., 0., 1., 0., 0., 0.],\n",
       "       [1., 0., 0., 0., 0., 0., 0., 0., 0., 0.],\n",
       "       [0., 1., 0., 0., 0., 0., 0., 0., 0., 0.],\n",
       "       [0., 0., 0., 0., 1., 0., 0., 0., 0., 0.],\n",
       "       [0., 0., 0., 0., 0., 1., 0., 0., 0., 0.],\n",
       "       [0., 0., 1., 0., 0., 0., 0., 0., 0., 0.],\n",
       "       [0., 0., 0., 0., 0., 0., 0., 0., 0., 1.],\n",
       "       [0., 0., 0., 0., 0., 0., 0., 1., 0., 0.],\n",
       "       [0., 0., 0., 0., 0., 0., 0., 0., 1., 0.],\n",
       "       [0., 0., 0., 1., 0., 0., 0., 0., 0., 0.]])"
      ]
     },
     "execution_count": 16,
     "metadata": {},
     "output_type": "execute_result"
    }
   ],
   "source": [
    "# OneHotEncoder\n",
    "from sklearn.preprocessing import OneHotEncoder\n",
    "# OneHotEncoder는 반드시 2차원이어야 함\n",
    "ohe = OneHotEncoder()\n",
    "ohe.fit(x[:,0].reshape(-1,1))\n",
    "x_ohe = ohe.transform(x[:,0].reshape(-1,1)).toarray()\n",
    "# OneHotEncoder의 tranform 결과는 sparse matrix임\n",
    "# ndarray로 변경하기 위해 .toarray()사용함\n",
    "# sparse matrix 사용하는 이유는 메모리 공간 아끼려고\n",
    "x_ohe"
   ]
  },
  {
   "cell_type": "code",
   "execution_count": 9,
   "id": "be002d0a",
   "metadata": {},
   "outputs": [
    {
     "data": {
      "text/plain": [
       "array([[1.0, 0.0, 0.0, 44.0, 72000.0],\n",
       "       [0.0, 0.0, 1.0, 27.0, 48000.0],\n",
       "       [0.0, 1.0, 0.0, 30.0, 54000.0],\n",
       "       [0.0, 0.0, 1.0, 38.0, 61000.0],\n",
       "       [0.0, 1.0, 0.0, 40.0, nan],\n",
       "       [1.0, 0.0, 0.0, 35.0, 58000.0],\n",
       "       [0.0, 0.0, 1.0, nan, 52000.0],\n",
       "       [1.0, 0.0, 0.0, 48.0, 79000.0],\n",
       "       [0.0, 1.0, 0.0, 50.0, 83000.0],\n",
       "       [1.0, 0.0, 0.0, 37.0, 67000.0]], dtype=object)"
      ]
     },
     "execution_count": 9,
     "metadata": {},
     "output_type": "execute_result"
    }
   ],
   "source": [
    "x_new_ohe = np.concatenate((x_ohe,x_tmp),axis=1)\n",
    "x_new_ohe"
   ]
  },
  {
   "cell_type": "code",
   "execution_count": 10,
   "id": "d5ab855e",
   "metadata": {},
   "outputs": [
    {
     "name": "stdout",
     "output_type": "stream",
     "text": [
      "(8, 3) (2, 3)\n",
      "(8,) (2,)\n"
     ]
    }
   ],
   "source": [
    "from sklearn.model_selection import train_test_split\n",
    "\n",
    "x_train,x_test,y_train,y_test = train_test_split(x,y,test_size = 0.2,random_state = 5)\n",
    "# test_size : 전체 데이터 수에 대한 test data의 비율\n",
    "\n",
    "# model 성능 비교 위해선 동일한 dataset사용해야 함 = random_state\n",
    "print(x_train.shape,x_test.shape)\n",
    "print(y_train.shape,y_test.shape)"
   ]
  },
  {
   "cell_type": "code",
   "execution_count": 11,
   "id": "c564c8e3",
   "metadata": {},
   "outputs": [
    {
     "name": "stdout",
     "output_type": "stream",
     "text": [
      "(10, 2) (10,)\n"
     ]
    }
   ],
   "source": [
    "# scaler: 데이터의 범위 조정\n",
    "x = dataset[:,2:-1]\n",
    "y = dataset[:,-1]\n",
    "print(x.shape,y.shape)"
   ]
  },
  {
   "cell_type": "code",
   "execution_count": 17,
   "id": "7fa6b1a7",
   "metadata": {},
   "outputs": [],
   "source": [
    "x_train,x_test,y_train,y_test = train_test_split(x,y,test_size = 0.2,random_state = 2)"
   ]
  },
  {
   "cell_type": "code",
   "execution_count": 13,
   "id": "73f604e4",
   "metadata": {},
   "outputs": [],
   "source": [
    "from sklearn.preprocessing import StandardScaler\n",
    "sc = StandardScaler()\n",
    "# 평균은 0, 분산(표준편차)은 1로 변경한 데이터 ( 주로 -3~3 의 값)\n",
    "# 0을 중심으로 위 아래 값으로 구함\n",
    "# 실제로 데이터가 분포되어 있는 특성을 가져옴\n",
    "sc.fit(x_train)\n",
    "# 변환을 위한 전략 수립(데이터의 평균, 분산 계산)\n",
    "x_train_sc = sc.transform(x_train)\n",
    "# 0에 가까울 수록 평균에 가까운 값\n",
    "\n",
    "# test 값의 변환은 fit 적용하지 않고 x_train으로 수립한 전략으로\n",
    "# 변환만 수행한다.\n",
    "x_test_sc = sc.transform(x_test)"
   ]
  },
  {
   "cell_type": "code",
   "execution_count": 19,
   "id": "aea40d35",
   "metadata": {},
   "outputs": [
    {
     "data": {
      "text/plain": [
       "array([[-0.04242853,         nan],\n",
       "       [-1.97292657, -1.65205652]])"
      ]
     },
     "execution_count": 19,
     "metadata": {},
     "output_type": "execute_result"
    }
   ],
   "source": [
    "x_test_sc"
   ]
  },
  {
   "cell_type": "code",
   "execution_count": null,
   "id": "08375c09",
   "metadata": {},
   "outputs": [],
   "source": []
  }
 ],
 "metadata": {
  "kernelspec": {
   "display_name": "Python 3 (ipykernel)",
   "language": "python",
   "name": "python3"
  },
  "language_info": {
   "codemirror_mode": {
    "name": "ipython",
    "version": 3
   },
   "file_extension": ".py",
   "mimetype": "text/x-python",
   "name": "python",
   "nbconvert_exporter": "python",
   "pygments_lexer": "ipython3",
   "version": "3.9.13"
  }
 },
 "nbformat": 4,
 "nbformat_minor": 5
}
